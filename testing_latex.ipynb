{
 "cells": [
  {
   "cell_type": "markdown",
   "metadata": {},
   "source": [
    "# Testing Markdown w/ math eqns\n",
    "more info: https://en.wikibooks.org/wiki/LaTeX/Mathematics\n",
    "\n",
    "Example Equation:\n",
    "$$\n",
    "f(x) = \\int_{-\\infty}^{\\infty} e^{-x^2} dx\n",
    "$$"
   ]
  },
  {
   "cell_type": "markdown",
   "metadata": {},
   "source": [
    "# Greek Letters:\n",
    "\n",
    "$$\n",
    "\\alpha, \\Alpha, \\beta, \\Beta, \\gamma, \\Gamma, \\pi, \\Pi, \\phi, \\varphi, \\mu, \\Phi\n",
    "$$\n",
    "\n",
    "# Operators\n",
    "$$\n",
    "\\cos (2\\theta) = \\cos^2 \\theta - \\sin^2 \\theta\n",
    "$$\n",
    "\n",
    "$$\n",
    "\\lim\\limits_{x \\to \\infty} \\exp(-x) = 0\n",
    "$$\n",
    "\n",
    "# Powers and indices\n",
    "$$\n",
    "k_{n+1} = n^2 + k_n^2 - k_{n-1}\n",
    "$$"
   ]
  },
  {
   "cell_type": "markdown",
   "metadata": {},
   "source": []
  }
 ],
 "metadata": {
  "kernelspec": {
   "display_name": "gen_env",
   "language": "python",
   "name": "python3"
  },
  "language_info": {
   "codemirror_mode": {
    "name": "ipython",
    "version": 3
   },
   "file_extension": ".py",
   "mimetype": "text/x-python",
   "name": "python",
   "nbconvert_exporter": "python",
   "pygments_lexer": "ipython3",
   "version": "3.10.9"
  },
  "orig_nbformat": 4
 },
 "nbformat": 4,
 "nbformat_minor": 2
}
